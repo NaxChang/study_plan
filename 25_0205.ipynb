{
 "cells": [
  {
   "cell_type": "code",
   "execution_count": null,
   "metadata": {},
   "outputs": [
    {
     "name": "stdout",
     "output_type": "stream",
     "text": [
      "分配:0 人\n",
      "剩餘: 12 個麵包\n"
     ]
    }
   ],
   "source": [
    "person = int(input())\n",
    "bread = int(input())\n",
    "result = divmod(bread, person)\n",
    "print(f\"分配: {result[0]} 人\")\n",
    "print(f\"剩餘: {result[1]} 個麵包\")"
   ]
  }
 ],
 "metadata": {
  "kernelspec": {
   "display_name": "venv1",
   "language": "python",
   "name": "python3"
  },
  "language_info": {
   "codemirror_mode": {
    "name": "ipython",
    "version": 3
   },
   "file_extension": ".py",
   "mimetype": "text/x-python",
   "name": "python",
   "nbconvert_exporter": "python",
   "pygments_lexer": "ipython3",
   "version": "3.11.2"
  }
 },
 "nbformat": 4,
 "nbformat_minor": 2
}

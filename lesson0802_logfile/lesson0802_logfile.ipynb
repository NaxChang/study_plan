{
 "cells": [
  {
   "cell_type": "code",
   "execution_count": 1,
   "metadata": {},
   "outputs": [
    {
     "data": {
      "text/plain": [
       "'__main__'"
      ]
     },
     "execution_count": 1,
     "metadata": {},
     "output_type": "execute_result"
    }
   ],
   "source": [
    "__name__\n",
    "\n",
    "# 文件變數有個名字"
   ]
  },
  {
   "cell_type": "code",
   "execution_count": 32,
   "metadata": {},
   "outputs": [
    {
     "name": "stdout",
     "output_type": "stream",
     "text": [
      "2024\n",
      "8\n",
      "2\n",
      "15\n",
      "54\n",
      "15\n"
     ]
    }
   ],
   "source": [
    "# 取得當前電腦的日期與時間\n",
    "from datetime import datetime\n",
    "now = datetime.now()\n",
    "print(now.year)\n",
    "print(now.month)\n",
    "print(now.day)\n",
    "print(now.hour)\n",
    "print(now.minute)\n",
    "print(now.second)"
   ]
  },
  {
   "cell_type": "markdown",
   "metadata": {},
   "source": [
    "%Y: 4 位數字的年份（例如：2024）\n",
    "%m: 2 位數字的月份（範圍：01 到 12）\n",
    "%d: 2 位數字的日期（範圍：01 到 31）\n",
    "%H: 24 小時制的小時（範圍：00 到 23）\n",
    "%M: 2 位數字的分鐘（範圍：00 到 59）\n",
    "%S: 2 位數字的秒（範圍：00 到 59）\n",
    "strtime是string format time的縮寫"
   ]
  },
  {
   "cell_type": "code",
   "execution_count": 18,
   "metadata": {},
   "outputs": [
    {
     "name": "stdout",
     "output_type": "stream",
     "text": [
      "%Y-%m-%d %H:%M:%S\n"
     ]
    }
   ],
   "source": [
    "now.strftime('%Y-%m-%d %H:%M:%S')"
   ]
  },
  {
   "cell_type": "markdown",
   "metadata": {},
   "source": [
    "**溫溼度**"
   ]
  },
  {
   "cell_type": "code",
   "execution_count": 31,
   "metadata": {},
   "outputs": [
    {
     "name": "stdout",
     "output_type": "stream",
     "text": [
      "c:\\Users\\user\\Desktop\\python\\Lesson_0801\\lesson_2408\\240801\\lesson0802_logfile\\__main__\n",
      "c:\\Users\\user\\Desktop\\python\\Lesson_0801\\lesson_2408\\240801\\lesson0802_logfile\n",
      "c:\\Users\\user\\Desktop\\python\\Lesson_0801\\lesson_2408\\240801\\lesson0802_logfile\\name\n",
      "目錄已存在\n"
     ]
    }
   ],
   "source": [
    "import os \n",
    "import os.path \n",
    "current_path = os.path.abspath(__name__) # 取得當前腳本的絕對目錄\n",
    "print(current_path)\n",
    "directory_name = os.path.dirname(current_path) # dirname , 找出原始路徑的父目錄\n",
    "print(directory_name)\n",
    "data_path = os.path.join(directory_name,\"name\") # 表示當前目錄加上一個data目錄\n",
    "print(data_path)\n",
    "if not os.path.isdir(data_path): # 檢查新目錄是否存在。\n",
    "    print(\"沒有data的目錄,手動建立目錄\")\n",
    "    os.mkdir(data_path)\n",
    "else:\n",
    "    print('目錄已存在')"
   ]
  },
  {
   "cell_type": "code",
   "execution_count": 33,
   "metadata": {},
   "outputs": [
    {
     "name": "stdout",
     "output_type": "stream",
     "text": [
      "有log檔\n"
     ]
    }
   ],
   "source": [
    "log_path = os.path.join(data_path, \"iot.log\")\n",
    "if not os.path.isfile(log_path):\n",
    "    with open(log_path, mode=\"w\", encoding=\"utf8\", newline='') as file:\n",
    "        file.write(\"時間, 濕度, 溫度, 天氣\\n\")\n",
    "else:\n",
    "    print(\"有log檔\")"
   ]
  },
  {
   "cell_type": "code",
   "execution_count": 38,
   "metadata": {},
   "outputs": [],
   "source": [
    "from datetime import datetime\n",
    "import random\n",
    "\n",
    "now = datetime.now()\n",
    "now_str = now.strftime(\"%Y-%m-%d %H:%M:%S\")\n",
    "\n",
    "\n",
    "humidity = str(random.randint(330, 820) / 10)\n",
    "celsius = str(random.randint(50, 400) / 10)\n",
    "\n",
    "log_path = os.path.join(data_path, \"iot.log\")\n",
    "with open(log_path, mode=\"a\", encoding=\"utf8\", newline=\"\") as file:\n",
    "    file.write(now_str + ',' + humidity + ',' + celsius + \"\\n\")\n",
    "\n"
   ]
  }
 ],
 "metadata": {
  "kernelspec": {
   "display_name": "lesson_2408",
   "language": "python",
   "name": "python3"
  },
  "language_info": {
   "codemirror_mode": {
    "name": "ipython",
    "version": 3
   },
   "file_extension": ".py",
   "mimetype": "text/x-python",
   "name": "python",
   "nbconvert_exporter": "python",
   "pygments_lexer": "ipython3",
   "version": "3.12.3"
  }
 },
 "nbformat": 4,
 "nbformat_minor": 2
}

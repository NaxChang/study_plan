{
 "cells": [
  {
   "cell_type": "code",
   "execution_count": 1,
   "metadata": {},
   "outputs": [
    {
     "name": "stdout",
     "output_type": "stream",
     "text": [
      "[1, 2, 3]\n"
     ]
    }
   ],
   "source": [
    "import copy\n",
    "\n",
    "original_list = [1, 2, 3]\n",
    "copied = copy.copy(original_list)\n",
    "print(copied)\n"
   ]
  },
  {
   "cell_type": "code",
   "execution_count": null,
   "metadata": {},
   "outputs": [],
   "source": [
    "import copy\n",
    "\n",
    "original_dict = {\"a\": 1, \"b\": [2, 3]}\n",
    "copied_dict = copy.copy(original_dict)\n",
    "print(copied_dict)\n"
   ]
  },
  {
   "cell_type": "code",
   "execution_count": null,
   "metadata": {},
   "outputs": [],
   "source": [
    "import copy\n",
    "\n",
    "original_dict = {\"a\": 1, \"b\": [2, 3]}\n",
    "copied_dict = copy.copy(original_dict)\n",
    "copied_dict[\"b\"].append(4)\n",
    "print(f\"copied_dict : {copied_dict}\")\n",
    "print(f\"original_dict : {original_dict}\")"
   ]
  },
  {
   "cell_type": "code",
   "execution_count": null,
   "metadata": {},
   "outputs": [],
   "source": [
    "import copy\n",
    "\n",
    "original_dict = {\"a\": 1, \"b\": [2, 3]}\n",
    "copied_dict = copy.deepcopy(original_dict)\n",
    "copied_dict[\"b\"].append(4)\n",
    "print(f\"copied_dict : {copied_dict}\")\n",
    "print(f\"original_dict : {original_dict}\")"
   ]
  },
  {
   "cell_type": "code",
   "execution_count": 2,
   "metadata": {},
   "outputs": [
    {
     "name": "stdout",
     "output_type": "stream",
     "text": [
      "(1, 2, [3, 4, 5])\n",
      "(1, 2, [3, 4, 5])\n",
      "(1, 2, [3, 4])\n"
     ]
    }
   ],
   "source": [
    "import copy\n",
    "\n",
    "original_tuple = (1, 2, [3, 4])\n",
    "copied_tuple = copy.copy(original_tuple)\n",
    "deep_copied_tuple = copy.deepcopy(original_tuple)\n",
    "\n",
    "original_tuple[2].append(5)\n",
    "\n",
    "print(original_tuple)\n",
    "print(copied_tuple)\n",
    "print(deep_copied_tuple)\n"
   ]
  }
 ],
 "metadata": {
  "kernelspec": {
   "display_name": "Python 3",
   "language": "python",
   "name": "python3"
  },
  "language_info": {
   "codemirror_mode": {
    "name": "ipython",
    "version": 3
   },
   "file_extension": ".py",
   "mimetype": "text/x-python",
   "name": "python",
   "nbconvert_exporter": "python",
   "pygments_lexer": "ipython3",
   "version": "3.12.3"
  }
 },
 "nbformat": 4,
 "nbformat_minor": 2
}

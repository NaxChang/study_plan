{
 "cells": [
  {
   "cell_type": "code",
   "execution_count": 4,
   "metadata": {},
   "outputs": [
    {
     "name": "stdout",
     "output_type": "stream",
     "text": [
      "12,12.0,12.0,abc\n",
      "12 12.0 12.0 abc.\n"
     ]
    }
   ],
   "source": [
    "# 列印\n",
    "print(12, 12.0, \"12.0\", \"abc\", sep=\",\")\n",
    "print(12, 12.0, \"12.0\", \"abc\", sep=\" \", end=\".\\n\")"
   ]
  },
  {
   "cell_type": "code",
   "execution_count": 3,
   "metadata": {},
   "outputs": [
    {
     "name": "stdout",
     "output_type": "stream",
     "text": [
      "cat 78 89.0 65.0\n",
      "<class 'str'>\n",
      "<class 'int'>\n",
      "<class 'float'>\n"
     ]
    }
   ],
   "source": [
    "# 變數的數值, 數據類型\n",
    "name = \"cat\"\n",
    "chinese = 78\n",
    "english = 89.0\n",
    "math = 65.0\n",
    "print(name, chinese, english, math)\n",
    "print(type(name)) # 字串型態\n",
    "print(type(chinese)) # 整數型態\n",
    "print(type(math)) # 浮點數"
   ]
  },
  {
   "cell_type": "code",
   "execution_count": 9,
   "metadata": {},
   "outputs": [
    {
     "name": "stdout",
     "output_type": "stream",
     "text": [
      "8\n",
      "8\n",
      "54\n",
      "90\n",
      "2\n",
      "3\n"
     ]
    }
   ],
   "source": [
    "# 算術運算子\n",
    "print(2 + 6)  # 2+6\n",
    "print(2**3)  # 2的3次方\n",
    "print(4 + 5 * 10)  # 先乘除後加減 54\n",
    "print((4 + 5) * 10) #9*10\n",
    "print(8 // 3) # 求商數 2\n",
    "print(7 % 4) # 求餘數 3\n"
   ]
  },
  {
   "cell_type": "markdown",
   "metadata": {},
   "source": [
    "random.randint(a, b) 是 random 模組中的一個函數，用來生成一個隨機整數。這個整數的範圍包括兩個邊界 a 和 b（即 a 和 b 也可以是生成的數字）。"
   ]
  },
  {
   "cell_type": "code",
   "execution_count": 19,
   "metadata": {},
   "outputs": [
    {
     "data": {
      "text/plain": [
       "3"
      ]
     },
     "execution_count": 19,
     "metadata": {},
     "output_type": "execute_result"
    }
   ],
   "source": [
    "import random \n",
    "random.randint(3,10)\n"
   ]
  },
  {
   "cell_type": "code",
   "execution_count": 23,
   "metadata": {},
   "outputs": [
    {
     "data": {
      "text/plain": [
       "False"
      ]
     },
     "execution_count": 23,
     "metadata": {},
     "output_type": "execute_result"
    }
   ],
   "source": [
    "# 比較運算子\n",
    "2 < 4\n",
    "3 == 3\n",
    "3 != 3"
   ]
  },
  {
   "cell_type": "code",
   "execution_count": 24,
   "metadata": {},
   "outputs": [
    {
     "name": "stdout",
     "output_type": "stream",
     "text": [
      "達標\n"
     ]
    }
   ],
   "source": [
    "# if 判斷式 if ..else..\n",
    "score = 61\n",
    "if score > 60:\n",
    "    print(\"達標\")\n",
    "else:\n",
    "    print(\"未達標\")"
   ]
  },
  {
   "cell_type": "code",
   "execution_count": 29,
   "metadata": {},
   "outputs": [
    {
     "name": "stdout",
     "output_type": "stream",
     "text": [
      "['nameless', 75, 80, 85]\n",
      "nameless\n",
      "75\n",
      "80\n",
      "85\n",
      "<class 'list'>\n"
     ]
    }
   ],
   "source": [
    "# 串列\n",
    "student = [\"nameless\", 75, 80, 85]\n",
    "print(student)\n",
    "print(student[0]) # 提取串列元素0\n",
    "print(student[1]) # 提取串列元素1\n",
    "print(student[2]) # 提取串列元素2\n",
    "print(student[3]) # 提取串列元素3\n",
    "print(type(student)) # 串列 型態"
   ]
  },
  {
   "cell_type": "code",
   "execution_count": 38,
   "metadata": {},
   "outputs": [
    {
     "name": "stdout",
     "output_type": "stream",
     "text": [
      "['nameless', 75, 80, 85, 90, 90]\n"
     ]
    }
   ],
   "source": [
    "# 可以用append,附加在最後一個元素之後\n",
    "student.append(90)\n",
    "print(student)"
   ]
  },
  {
   "cell_type": "code",
   "execution_count": 40,
   "metadata": {},
   "outputs": [
    {
     "data": {
      "text/plain": [
       "['nameless', 75, 80, 85]"
      ]
     },
     "execution_count": 40,
     "metadata": {},
     "output_type": "execute_result"
    }
   ],
   "source": [
    "# 移除最後一個元素\n",
    "student.pop()\n",
    "student"
   ]
  },
  {
   "cell_type": "code",
   "execution_count": 53,
   "metadata": {},
   "outputs": [
    {
     "name": "stdout",
     "output_type": "stream",
     "text": [
      "nameless\n",
      "<class 'dict'>\n"
     ]
    }
   ],
   "source": [
    "# dictionary 詞典\n",
    "# key對應value\n",
    "\n",
    "student_dict = {\n",
    "    \"name\": \"nameless\",\n",
    "    \"chinese\": 92,\n",
    "    \"english\": 82,\n",
    "    \"math\": 79,\n",
    "}\n",
    "print(student_dict[\"name\"])  # 印出key去找出value\n",
    "print(type(student_dict))  # 辭典型態"
   ]
  },
  {
   "cell_type": "code",
   "execution_count": 51,
   "metadata": {},
   "outputs": [
    {
     "data": {
      "text/plain": [
       "dict_values(['nameless', 92, 82, 79])"
      ]
     },
     "execution_count": 51,
     "metadata": {},
     "output_type": "execute_result"
    }
   ],
   "source": [
    "# 印出詞典對應的值 \n",
    "student_dict.values()\n",
    "# # 中括號 表示暫時的資料"
   ]
  },
  {
   "cell_type": "code",
   "execution_count": 54,
   "metadata": {},
   "outputs": [
    {
     "data": {
      "text/plain": [
       "'nameless'"
      ]
     },
     "execution_count": 54,
     "metadata": {},
     "output_type": "execute_result"
    }
   ],
   "source": [
    "student_dict.pop(\"name\")\n",
    "\n",
    "# 將名字移除"
   ]
  },
  {
   "cell_type": "code",
   "execution_count": 55,
   "metadata": {},
   "outputs": [
    {
     "data": {
      "text/plain": [
       "{'chinese': 92, 'english': 82, 'math': 79}"
      ]
     },
     "execution_count": 55,
     "metadata": {},
     "output_type": "execute_result"
    }
   ],
   "source": [
    "student_dict\n",
    "# 接著印出來後就沒有名字"
   ]
  }
 ],
 "metadata": {
  "kernelspec": {
   "display_name": "myenv",
   "language": "python",
   "name": "python3"
  },
  "language_info": {
   "codemirror_mode": {
    "name": "ipython",
    "version": 3
   },
   "file_extension": ".py",
   "mimetype": "text/x-python",
   "name": "python",
   "nbconvert_exporter": "python",
   "pygments_lexer": "ipython3",
   "version": "3.12.3"
  }
 },
 "nbformat": 4,
 "nbformat_minor": 2
}

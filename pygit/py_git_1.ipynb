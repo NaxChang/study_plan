{
  "nbformat": 4,
  "nbformat_minor": 0,
  "metadata": {
    "colab": {
      "provenance": [],
      "authorship_tag": "ABX9TyP42ymkPp0w3M6GliJvSrjo",
      "include_colab_link": true
    },
    "kernelspec": {
      "name": "python3",
      "display_name": "Python 3"
    },
    "language_info": {
      "name": "python"
    }
  },
  "cells": [
    {
      "cell_type": "markdown",
      "metadata": {
        "id": "view-in-github",
        "colab_type": "text"
      },
      "source": [
        "<a href=\"https://colab.research.google.com/github/NaxChang/study_plan/blob/main/pygit/py_git_1.ipynb\" target=\"_parent\"><img src=\"https://colab.research.google.com/assets/colab-badge.svg\" alt=\"Open In Colab\"/></a>"
      ]
    },
    {
      "cell_type": "code",
      "execution_count": 2,
      "metadata": {
        "colab": {
          "base_uri": "https://localhost:8080/"
        },
        "id": "OQd-Rrcw_xwq",
        "outputId": "a2743328-1769-4ffc-b1d2-b32e0f00fda7"
      },
      "outputs": [
        {
          "output_type": "stream",
          "name": "stdout",
          "text": [
            "args是tuple (1, 2, 3, 'a', 'b', 'c', True, False, None)\n"
          ]
        }
      ],
      "source": [
        "def print_args(*args):\n",
        "  print(\"args是tuple\",args)\n",
        "\n",
        "print_args(1,2,3,\"a\",\"b\",\"c\",True,False,None)"
      ]
    }
  ]
}
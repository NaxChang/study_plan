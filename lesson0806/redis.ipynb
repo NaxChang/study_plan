{
 "cells": [
  {
   "cell_type": "markdown",
   "metadata": {},
   "source": [
    "# redis \n",
    "\n",
    "1.更新系統：\n",
    "sudo apt-get update\n",
    "sudo apt-get upgrade -y\n",
    "2.安裝必要的工具：\n",
    "sudo apt-get install -y build-essential tcl\n",
    "安裝 Redis\n",
    "sudo apt install redis-server –y\n",
    "\n",
    "設定Redis\n",
    "sudo vim /etc/redis/redis.conf 或者是\n",
    "sudo nano /etc/redis/redis.conf\n",
    "maxmemory 200mb \n",
    "啟動redis service 和 自動開啟\n",
    "sudo systemctl  enable  redis-server\n",
    "sudo systemctl start redis-server\n",
    "測試\n",
    "redis-cli ping\n",
    "出現PONG表示安裝好了\n"
   ]
  }
 ],
 "metadata": {
  "kernelspec": {
   "display_name": "venv",
   "language": "python",
   "name": "python3"
  },
  "language_info": {
   "codemirror_mode": {
    "name": "ipython",
    "version": 3
   },
   "file_extension": ".py",
   "mimetype": "text/x-python",
   "name": "python",
   "nbconvert_exporter": "python",
   "pygments_lexer": "ipython3",
   "version": "3.12.3"
  }
 },
 "nbformat": 4,
 "nbformat_minor": 2
}

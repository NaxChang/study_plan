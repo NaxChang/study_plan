{
 "cells": [
  {
   "cell_type": "markdown",
   "metadata": {},
   "source": [
    "## 迭代器的操作\n",
    "### 取得迭代物件中的所有元素加總\n",
    "##### 格式 itertools.accumulate(iterable,func=operator.add)\n",
    "##### 參數 iterable-設定迭代物件\n",
    "##### func-設定接受兩參數的函數,省略時預設為operatopr.add(),計算時從第一個元素起算\n",
    "##### 回傳值-accumulate 迭代器"
   ]
  },
  {
   "cell_type": "code",
   "execution_count": null,
   "metadata": {},
   "outputs": [],
   "source": []
  },
  {
   "cell_type": "code",
   "execution_count": null,
   "metadata": {},
   "outputs": [],
   "source": []
  }
 ],
 "metadata": {
  "kernelspec": {
   "display_name": "venv1",
   "language": "python",
   "name": "python3"
  },
  "language_info": {
   "codemirror_mode": {
    "name": "ipython",
    "version": 3
   },
   "file_extension": ".py",
   "mimetype": "text/x-python",
   "name": "python",
   "nbconvert_exporter": "python",
   "pygments_lexer": "ipython3",
   "version": "3.11.2"
  }
 },
 "nbformat": 4,
 "nbformat_minor": 2
}

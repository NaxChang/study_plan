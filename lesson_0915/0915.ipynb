{
 "cells": [
  {
   "cell_type": "code",
   "execution_count": 8,
   "metadata": {},
   "outputs": [],
   "source": [
    "# 1.單向選擇\n",
    "\n",
    "# 輸入一個數字\n",
    "num = int(input(\"請輸入一個數字: \"))\n",
    "# 單向選擇：判斷數字是否為正\n",
    "if num > 0:\n",
    "    print(\"這是一個正數\")"
   ]
  },
  {
   "cell_type": "markdown",
   "metadata": {},
   "source": [
    "# 2. 雙項選擇\n",
    "if bool:\n",
    "    True # 程式區塊\n",
    "else :\n",
    "    False # 程式區塊"
   ]
  },
  {
   "cell_type": "code",
   "execution_count": 11,
   "metadata": {},
   "outputs": [
    {
     "name": "stdout",
     "output_type": "stream",
     "text": [
      "3\n"
     ]
    }
   ],
   "source": [
    "if 3 > 2:\n",
    "    print(3)\n",
    "else:\n",
    "    print(2)"
   ]
  },
  {
   "cell_type": "code",
   "execution_count": 12,
   "metadata": {},
   "outputs": [
    {
     "name": "stdout",
     "output_type": "stream",
     "text": [
      "不能考駕照\n",
      "程式結束\n"
     ]
    }
   ],
   "source": [
    "age = 17\n",
    "if age < 18:\n",
    "    print(\"不能考駕照\")\n",
    "else:\n",
    "    print(\"可以考駕照\")\n",
    "print(\"程式結束\")"
   ]
  },
  {
   "cell_type": "markdown",
   "metadata": {},
   "source": [
    "## 多項選擇\n",
    "```python\n",
    "if XXX == 'a':\n",
    "    結果a\n",
    "elif XXX == 'b':\n",
    "    結果b\n",
    "elif XXX == 'c':\n",
    "    結果c\n",
    "else:\n",
    "    都不是我們要的結果\n",
    "<elif 是 else if 的縮寫>\n",
    "````"
   ]
  },
  {
   "cell_type": "code",
   "execution_count": 15,
   "metadata": {},
   "outputs": [
    {
     "name": "stdout",
     "output_type": "stream",
     "text": [
      "無效的選擇\n"
     ]
    }
   ],
   "source": [
    "char = input(\"請輸入字母(a,b,c): \")\n",
    "\n",
    "if char == \"a\":\n",
    "    print(\"我選擇了a\")\n",
    "elif char == \"b\":\n",
    "    print(\"我選擇了b\")\n",
    "elif char == \"c\":\n",
    "    print(\"我選擇了c\")\n",
    "else:\n",
    "    print(\"無效的選擇\")"
   ]
  },
  {
   "cell_type": "markdown",
   "metadata": {},
   "source": [
    "# 題目 \n",
    "1. 學生總分上限為300分,# int(input)\n",
    "2. 判斷是否滿足加分條件,# input\n",
    "3. 小於或等於300可以+5% # 判斷式\n",
    "4. 如果分數超過300,就以300分為準\n"
   ]
  },
  {
   "cell_type": "code",
   "execution_count": 24,
   "metadata": {},
   "outputs": [
    {
     "name": "stdout",
     "output_type": "stream",
     "text": [
      "學生的分數: 300分\n"
     ]
    }
   ],
   "source": [
    "score = int(input(\"請輸入分數: \"))\n",
    "is_add = input(\"是否滿足加分條件(y/n)\")\n",
    "\n",
    "if is_add == \"y\":\n",
    "    if score < 300:\n",
    "        score *= 1.05\n",
    "if score > 300:\n",
    "    score = 300\n",
    "\n",
    "print(f'學生的分數: {score}分')\n",
    "\n"
   ]
  },
  {
   "cell_type": "code",
   "execution_count": null,
   "metadata": {},
   "outputs": [],
   "source": []
  }
 ],
 "metadata": {
  "kernelspec": {
   "display_name": "venv1",
   "language": "python",
   "name": "python3"
  },
  "language_info": {
   "codemirror_mode": {
    "name": "ipython",
    "version": 3
   },
   "file_extension": ".py",
   "mimetype": "text/x-python",
   "name": "python",
   "nbconvert_exporter": "python",
   "pygments_lexer": "ipython3",
   "version": "3.11.2"
  }
 },
 "nbformat": 4,
 "nbformat_minor": 2
}

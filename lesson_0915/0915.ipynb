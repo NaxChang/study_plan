{
 "cells": [
  {
   "cell_type": "code",
   "execution_count": 8,
   "metadata": {},
   "outputs": [],
   "source": [
    "# 1.單向選擇\n",
    "\n",
    "# 輸入一個數字\n",
    "num = int(input(\"請輸入一個數字: \"))\n",
    "# 單向選擇：判斷數字是否為正\n",
    "if num > 0:\n",
    "    print(\"這是一個正數\")"
   ]
  },
  {
   "cell_type": "markdown",
   "metadata": {},
   "source": [
    "# 2. 雙項選擇\n",
    "if bool:\n",
    "    True # 程式區塊\n",
    "else :\n",
    "    False # 程式區塊"
   ]
  },
  {
   "cell_type": "code",
   "execution_count": 11,
   "metadata": {},
   "outputs": [
    {
     "name": "stdout",
     "output_type": "stream",
     "text": [
      "3\n"
     ]
    }
   ],
   "source": [
    "if 3 > 2:\n",
    "    print(3)\n",
    "else:\n",
    "    print(2)"
   ]
  },
  {
   "cell_type": "code",
   "execution_count": 12,
   "metadata": {},
   "outputs": [
    {
     "name": "stdout",
     "output_type": "stream",
     "text": [
      "不能考駕照\n",
      "程式結束\n"
     ]
    }
   ],
   "source": [
    "age = 17\n",
    "if age < 18:\n",
    "    print(\"不能考駕照\")\n",
    "else:\n",
    "    print(\"可以考駕照\")\n",
    "print(\"程式結束\")"
   ]
  },
  {
   "cell_type": "markdown",
   "metadata": {},
   "source": [
    "## 多項選擇\n",
    "```python\n",
    "if XXX == 'a':\n",
    "    結果a\n",
    "elif XXX == 'b':\n",
    "    結果b\n",
    "elif XXX == 'c':\n",
    "    結果c\n",
    "else:\n",
    "    都不是我們要的結果\n",
    "<elif 是 else if 的縮寫>\n",
    "````"
   ]
  },
  {
   "cell_type": "code",
   "execution_count": 15,
   "metadata": {},
   "outputs": [
    {
     "name": "stdout",
     "output_type": "stream",
     "text": [
      "無效的選擇\n"
     ]
    }
   ],
   "source": [
    "char = input(\"請輸入字母(a,b,c): \")\n",
    "\n",
    "if char == \"a\":\n",
    "    print(\"我選擇了a\")\n",
    "elif char == \"b\":\n",
    "    print(\"我選擇了b\")\n",
    "elif char == \"c\":\n",
    "    print(\"我選擇了c\")\n",
    "else:\n",
    "    print(\"無效的選擇\")"
   ]
  },
  {
   "cell_type": "markdown",
   "metadata": {},
   "source": [
    "# 題目 \n",
    "1. 學生總分上限為300分,# int(input)\n",
    "2. 判斷是否滿足加分條件,# input\n",
    "3. 小於或等於300可以+5% # 判斷式\n",
    "4. 如果分數超過300,就以300分為準\n"
   ]
  },
  {
   "cell_type": "code",
   "execution_count": 24,
   "metadata": {},
   "outputs": [
    {
     "name": "stdout",
     "output_type": "stream",
     "text": [
      "學生的分數: 300分\n"
     ]
    }
   ],
   "source": [
    "score = int(input(\"請輸入分數: \"))\n",
    "is_add = input(\"是否滿足加分條件(y/n)\")\n",
    "\n",
    "if is_add == \"y\":\n",
    "    if score < 300:\n",
    "        score *= 1.05\n",
    "if score > 300:\n",
    "    score = 300\n",
    "\n",
    "print(f'學生的分數: {score}分')\n",
    "\n"
   ]
  },
  {
   "cell_type": "markdown",
   "metadata": {},
   "source": []
  },
  {
   "cell_type": "markdown",
   "metadata": {},
   "source": [
    "\n",
    "## for loop\n",
    "```python \n",
    "for 變量名 in 可迭代對象:\n",
    "    對每個變量名做一些事情\n",
    "    print(\"變量名\", 變量)\n",
    "```\n"
   ]
  },
  {
   "cell_type": "code",
   "execution_count": 9,
   "metadata": {},
   "outputs": [],
   "source": [
    "# 列表\n",
    "list_1 = [2, 4, 6, 8, 10]\n",
    "# 字典\n",
    "dict_1 = {\"麵包\": 20, \"吐司\": 30, \"蛋糕\": 40}\n",
    "# 字符串\n",
    "str_1 = \"Hello world!\""
   ]
  },
  {
   "cell_type": "code",
   "execution_count": 16,
   "metadata": {},
   "outputs": [
    {
     "name": "stdout",
     "output_type": "stream",
     "text": [
      "Hello world!"
     ]
    }
   ],
   "source": [
    "for s in str_1:\n",
    "    print(s,end=\"\")"
   ]
  },
  {
   "cell_type": "code",
   "execution_count": 14,
   "metadata": {},
   "outputs": [
    {
     "name": "stdout",
     "output_type": "stream",
     "text": [
      "麵包: 20\n",
      "吐司: 30\n",
      "蛋糕: 40\n"
     ]
    }
   ],
   "source": [
    "for key, value in dict_1.items():\n",
    "    print(f\"{key}: {value}\")\n",
    "# for dict in dict_1:\n",
    "#     print(dict)"
   ]
  },
  {
   "cell_type": "code",
   "execution_count": 5,
   "metadata": {},
   "outputs": [
    {
     "name": "stdout",
     "output_type": "stream",
     "text": [
      "2 4 6 8 10 "
     ]
    }
   ],
   "source": [
    "for list in list_1:\n",
    "    print(list,end=\" \")"
   ]
  },
  {
   "cell_type": "code",
   "execution_count": null,
   "metadata": {},
   "outputs": [],
   "source": []
  },
  {
   "cell_type": "code",
   "execution_count": 35,
   "metadata": {},
   "outputs": [
    {
     "name": "stdout",
     "output_type": "stream",
     "text": [
      "Hello world!"
     ]
    }
   ],
   "source": [
    "for s in str_1:\n",
    "    print(s,end=\"\")"
   ]
  },
  {
   "cell_type": "code",
   "execution_count": null,
   "metadata": {},
   "outputs": [],
   "source": [
    "for dict in dict_1 :\n",
    "    print(dict, end=\",\")"
   ]
  },
  {
   "cell_type": "markdown",
   "metadata": {},
   "source": [
    "```python\n",
    "for 索引值 in(在) range(範圍):\n",
    "    print(\"目前的數字\",索引值)\n",
    "```"
   ]
  },
  {
   "cell_type": "code",
   "execution_count": 21,
   "metadata": {},
   "outputs": [
    {
     "name": "stdout",
     "output_type": "stream",
     "text": [
      "0 1 2 3 4 "
     ]
    }
   ],
   "source": [
    "a = int(input(\"請輸入數字: \"))\n",
    "for i in range(a):\n",
    "    print(i,end=\" \")"
   ]
  },
  {
   "cell_type": "markdown",
   "metadata": {},
   "source": [
    "```python\n",
    "for 變數 in range(範圍):\n",
    "    print(變數)\n",
    "```"
   ]
  },
  {
   "cell_type": "code",
   "execution_count": 3,
   "metadata": {},
   "outputs": [
    {
     "name": "stdout",
     "output_type": "stream",
     "text": [
      "0 1 2 3 4 "
     ]
    }
   ],
   "source": [
    "for i in range(5):\n",
    "    print(i,end=\" \")"
   ]
  },
  {
   "cell_type": "markdown",
   "metadata": {},
   "source": [
    "```python\n",
    "n = int(input(值))\n",
    "for 變數 in range(起點,終點,間距):\n",
    "    print(變數)\n",
    "```"
   ]
  },
  {
   "cell_type": "code",
   "execution_count": 36,
   "metadata": {},
   "outputs": [
    {
     "name": "stdout",
     "output_type": "stream",
     "text": [
      "10 8 6 4 2 "
     ]
    }
   ],
   "source": [
    "x = int(input())\n",
    "for i in range(10,x,-2):\n",
    "    print(i,end=\" \")"
   ]
  },
  {
   "cell_type": "markdown",
   "metadata": {},
   "source": [
    "```python\n",
    "n = int(input(值))\n",
    "for 變數 in range(起點,終點,間隔):\n",
    "    print(變數)\n",
    "```"
   ]
  },
  {
   "cell_type": "code",
   "execution_count": null,
   "metadata": {},
   "outputs": [],
   "source": []
  },
  {
   "cell_type": "markdown",
   "metadata": {},
   "source": [
    "## 題目 1+2..........100\n",
    "\n",
    "```python\n",
    "\n",
    "總和初始值= ??\n",
    "for 變數 in range(起點,終點):\n",
    "  總和初始值 = 總和初始值 + 變數\n",
    "print(總和初始值)"
   ]
  },
  {
   "cell_type": "code",
   "execution_count": 39,
   "metadata": {},
   "outputs": [
    {
     "name": "stdout",
     "output_type": "stream",
     "text": [
      "5050\n"
     ]
    }
   ],
   "source": [
    "total = 0 \n",
    "for i in range(1,101):\n",
    "    total = total +i\n",
    "print(total)\n"
   ]
  },
  {
   "cell_type": "markdown",
   "metadata": {},
   "source": [
    "## 題目 1+2..........100,只要被2整除的數字\n",
    "### 例如 2+4+6-----100\n",
    "\n",
    "```python\n",
    "\n",
    "總和初始值= ??\n",
    "for 變數 in range(起點,終點):\n",
    "    如果 變數被2整除為0:\n",
    "    總和初始值 = 總和初始值 + 變數\n",
    "print(總和初始值)"
   ]
  },
  {
   "cell_type": "code",
   "execution_count": 41,
   "metadata": {},
   "outputs": [
    {
     "name": "stdout",
     "output_type": "stream",
     "text": [
      "2550\n"
     ]
    }
   ],
   "source": [
    "total = 0 \n",
    "for i in range(1,101):\n",
    "    if i %2 ==0:\n",
    "        total +=i \n",
    "print(total)"
   ]
  },
  {
   "cell_type": "code",
   "execution_count": 40,
   "metadata": {},
   "outputs": [
    {
     "name": "stdout",
     "output_type": "stream",
     "text": [
      "2550\n"
     ]
    }
   ],
   "source": [
    "total = 0 \n",
    "for i in range(0,101,2):\n",
    "    total +=i \n",
    "print(total)"
   ]
  },
  {
   "cell_type": "code",
   "execution_count": null,
   "metadata": {},
   "outputs": [],
   "source": []
  },
  {
   "cell_type": "code",
   "execution_count": null,
   "metadata": {},
   "outputs": [],
   "source": []
  },
  {
   "cell_type": "code",
   "execution_count": 13,
   "metadata": {},
   "outputs": [
    {
     "name": "stdout",
     "output_type": "stream",
     "text": [
      "2550\n"
     ]
    }
   ],
   "source": [
    "n = int(input())\n",
    "total = 0 \n",
    "for i in range(1, n):\n",
    "    if i % 2 ==0:\n",
    "        total = total + i \n",
    "print(total)"
   ]
  },
  {
   "cell_type": "code",
   "execution_count": 24,
   "metadata": {},
   "outputs": [
    {
     "name": "stdout",
     "output_type": "stream",
     "text": [
      "2500\n"
     ]
    }
   ],
   "source": [
    "total = 0 \n",
    "for i in range(1, 101 ,2):\n",
    "    if i % 2 !=0:\n",
    "       total = total + i \n",
    "print(total )\n"
   ]
  },
  {
   "cell_type": "markdown",
   "metadata": {},
   "source": [
    "## 找出比37.5還要高的數字"
   ]
  },
  {
   "cell_type": "code",
   "execution_count": 44,
   "metadata": {},
   "outputs": [
    {
     "name": "stdout",
     "output_type": "stream",
     "text": [
      "37.9\n",
      "38.1\n",
      "39\n",
      "40.2\n",
      "41.2\n",
      "程式結束\n"
     ]
    }
   ],
   "source": [
    "temprature_list = [35.6, 36.7, 37.9, 38.1, 39, 40.2, 41.2]\n",
    "for temp in temprature_list:\n",
    "    if temp > 37.5:\n",
    "        print(temp)\n",
    "print(\"程式結束\")\n",
    "# print(len(temprature_list))\n"
   ]
  },
  {
   "cell_type": "code",
   "execution_count": null,
   "metadata": {},
   "outputs": [],
   "source": []
  }
 ],
 "metadata": {
  "kernelspec": {
   "display_name": "venv1",
   "language": "python",
   "name": "python3"
  },
  "language_info": {
   "codemirror_mode": {
    "name": "ipython",
    "version": 3
   },
   "file_extension": ".py",
   "mimetype": "text/x-python",
   "name": "python",
   "nbconvert_exporter": "python",
   "pygments_lexer": "ipython3",
   "version": "3.11.2"
  }
 },
 "nbformat": 4,
 "nbformat_minor": 2
}

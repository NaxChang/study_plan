{
 "cells": [
  {
   "cell_type": "markdown",
   "metadata": {},
   "source": [
    "這是一個公式: $ y = x +3 $"
   ]
  },
  {
   "cell_type": "markdown",
   "metadata": {},
   "source": [
    "$$x^3$$\n",
    "$$H_2O$$\n",
    "$$S_{input}$$"
   ]
  },
  {
   "cell_type": "markdown",
   "metadata": {},
   "source": []
  }
 ],
 "metadata": {
  "language_info": {
   "name": "python"
  }
 },
 "nbformat": 4,
 "nbformat_minor": 2
}

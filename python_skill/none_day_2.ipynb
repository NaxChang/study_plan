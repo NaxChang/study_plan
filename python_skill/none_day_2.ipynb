{
 "cells": [
  {
   "cell_type": "markdown",
   "id": "cf7ec824",
   "metadata": {},
   "source": [
    "#### 正確地使用返回值None"
   ]
  },
  {
   "cell_type": "code",
   "execution_count": 26,
   "id": "71ebf176",
   "metadata": {},
   "outputs": [],
   "source": [
    "def test_connection():\n",
    "    return True\n",
    "\n",
    "\n",
    "def get():\n",
    "    return []\n",
    "    # return [\"user01\", \"user02\", \"user03\"]\n",
    "\n",
    "\n",
    "def get_user_list():\n",
    "    if not test_connection():\n",
    "        return None\n",
    "    return get()"
   ]
  },
  {
   "cell_type": "code",
   "execution_count": 28,
   "id": "180ee4f6",
   "metadata": {},
   "outputs": [
    {
     "name": "stdout",
     "output_type": "stream",
     "text": [
      "User list: []\n"
     ]
    }
   ],
   "source": [
    "user_list = get_user_list()\n",
    "if user_list is None:\n",
    "    print(\"Connection failed\")\n",
    "print(\"User list:\", user_list)"
   ]
  }
 ],
 "metadata": {
  "kernelspec": {
   "display_name": "venv1",
   "language": "python",
   "name": "python3"
  },
  "language_info": {
   "codemirror_mode": {
    "name": "ipython",
    "version": 3
   },
   "file_extension": ".py",
   "mimetype": "text/x-python",
   "name": "python",
   "nbconvert_exporter": "python",
   "pygments_lexer": "ipython3",
   "version": "3.11.2"
  }
 },
 "nbformat": 4,
 "nbformat_minor": 5
}

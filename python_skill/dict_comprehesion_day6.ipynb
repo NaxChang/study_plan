{
 "cells": [
  {
   "cell_type": "markdown",
   "id": "fc8036e6",
   "metadata": {},
   "source": [
    "\n",
    "```python=\n",
    "a = [1, 2, 3, 4, 5,]\n",
    "c = {item: str(item) for item in a}\n",
    "print(c)\n",
    "print(type(c))\n",
    "# {1:\"1\",2:\"2\"}\n",
    "```\n",
    "```python=\n",
    "d1 = {\"name\": \"nameless\", \"age\": 35}\n",
    "d2 = {\"ver\": 3.6, \"platform\": \"Linux\"}\n",
    "d3 = {\"size\": \"50MB\"}\n",
    "\n",
    "a = {}\n",
    "for key, value in d1.items():\n",
    "    a[key] = value\n",
    "for key, value in d2.items():\n",
    "    a[key] = value\n",
    "for key, value in d3.items():\n",
    "    a[key] = value\n",
    "print(a)\n",
    "# (逐項迴圈手動合併法)\n",
    "```\n",
    "```python=\n",
    "a = {}\n",
    "a.update(d1)\n",
    "a.update(d2)\n",
    "a.update(d3)\n",
    "print(a)\n",
    "# update合併字典法\n",
    "```\n",
    "\n",
    "```python=\n",
    "d1 = {\"name\": \"nameless\", \"age\": 35}\n",
    "d2 = {\"ver\": 3.6, \"platform\": \"Linux\"}\n",
    "d3 = {\"size\": \"50MB\"}\n",
    "a = {**d1, **d2, **d3}\n",
    "print(a)\n",
    "# 字典解包合併寫法\n",
    "```\n",
    "\n",
    "```python=\n",
    "d1 = {\"name\": \"nameless\", \"age\": 35}\n",
    "d2 = {\"ver\": 3.6, \"platform\": \"Linux\"}\n",
    "d3 = {\"size\": \"50MB\"}\n",
    "a = {k: v for d in [d1, d2, d3] for k, v in d.items()}\n",
    "print(a)\n",
    "# 字典解析\n",
    "```"
   ]
  }
 ],
 "metadata": {
  "language_info": {
   "name": "python"
  }
 },
 "nbformat": 4,
 "nbformat_minor": 5
}

{
 "cells": [
  {
   "cell_type": "markdown",
   "id": "55dd9c0e",
   "metadata": {},
   "source": [
    "#### 匿名函式 lambda"
   ]
  },
  {
   "cell_type": "code",
   "execution_count": 9,
   "id": "641eae64",
   "metadata": {},
   "outputs": [
    {
     "name": "stdout",
     "output_type": "stream",
     "text": [
      "2\n"
     ]
    }
   ],
   "source": [
    "def g(x):\n",
    "    return x + 1\n",
    "\n",
    "\n",
    "print(g(1))"
   ]
  },
  {
   "cell_type": "code",
   "execution_count": 25,
   "id": "ef57e6b1",
   "metadata": {},
   "outputs": [
    {
     "name": "stdout",
     "output_type": "stream",
     "text": [
      "2\n"
     ]
    }
   ],
   "source": [
    "g1 = lambda x: x + 1\n",
    "print(g1(1))"
   ]
  },
  {
   "cell_type": "code",
   "execution_count": 26,
   "id": "4c1f5eed",
   "metadata": {},
   "outputs": [
    {
     "name": "stdout",
     "output_type": "stream",
     "text": [
      "5\n"
     ]
    }
   ],
   "source": [
    "g2 = lambda x, y: x + 2 * y\n",
    "print(g2(1, 2))"
   ]
  },
  {
   "cell_type": "code",
   "execution_count": 27,
   "id": "dc14ca9b",
   "metadata": {},
   "outputs": [
    {
     "name": "stdout",
     "output_type": "stream",
     "text": [
      "5\n"
     ]
    }
   ],
   "source": [
    "print((lambda x, y: x + 2 * y)(1, 2))"
   ]
  },
  {
   "cell_type": "code",
   "execution_count": 30,
   "id": "fe8f4dfe",
   "metadata": {},
   "outputs": [
    {
     "name": "stdout",
     "output_type": "stream",
     "text": [
      "[(3, 1), (1, 2), (5, 8)]\n"
     ]
    }
   ],
   "source": [
    "data = [(1, 2), (3, 1), (5, 8)]\n",
    "\n",
    "\n",
    "def get_second_element(x):\n",
    "    return x[1]\n",
    "\n",
    "\n",
    "sorted_data = sorted(data, key=get_second_element, reverse=False)\n",
    "print(sorted_data)\n",
    "\n",
    "# print(get_second_element(data[0]))\n",
    "# print(get_second_element(data[1]))"
   ]
  },
  {
   "cell_type": "code",
   "execution_count": 32,
   "id": "0c49f234",
   "metadata": {},
   "outputs": [
    {
     "name": "stdout",
     "output_type": "stream",
     "text": [
      "[(3, 1), (1, 2), (5, 8)]\n"
     ]
    }
   ],
   "source": [
    "data = [(1, 2), (3, 1), (5, 8)]\n",
    "\n",
    "\n",
    "sorted_data1 = sorted(data, key=lambda x: x[1], reverse=False)\n",
    "print(sorted_data1)"
   ]
  },
  {
   "cell_type": "code",
   "execution_count": 37,
   "id": "2eb71ab0",
   "metadata": {},
   "outputs": [
    {
     "name": "stdout",
     "output_type": "stream",
     "text": [
      "['Git', 'Nameless', 'Python', 'apple', 'linux']\n"
     ]
    }
   ],
   "source": [
    "data1 = [\"Nameless\", \"Python\", \"Git\", \"linux\", \"apple\"]\n",
    "print(sorted(data1))"
   ]
  },
  {
   "cell_type": "code",
   "execution_count": 38,
   "id": "66031636",
   "metadata": {},
   "outputs": [
    {
     "name": "stdout",
     "output_type": "stream",
     "text": [
      "71\n",
      "103\n"
     ]
    }
   ],
   "source": [
    "print(ord(\"G\"))\n",
    "print(ord(\"g\"))"
   ]
  },
  {
   "cell_type": "code",
   "execution_count": 40,
   "id": "d9f48d33",
   "metadata": {},
   "outputs": [
    {
     "name": "stdout",
     "output_type": "stream",
     "text": [
      "['apple', 'Git', 'linux', 'Nameless', 'Python']\n"
     ]
    }
   ],
   "source": [
    "data2 = [\"Nameless\", \"Python\", \"Git\", \"linux\", \"apple\"]\n",
    "print(sorted(data2, key=lambda x: x.lower()))"
   ]
  }
 ],
 "metadata": {
  "kernelspec": {
   "display_name": "venv1",
   "language": "python",
   "name": "python3"
  },
  "language_info": {
   "codemirror_mode": {
    "name": "ipython",
    "version": 3
   },
   "file_extension": ".py",
   "mimetype": "text/x-python",
   "name": "python",
   "nbconvert_exporter": "python",
   "pygments_lexer": "ipython3",
   "version": "3.11.2"
  }
 },
 "nbformat": 4,
 "nbformat_minor": 5
}

{
 "cells": [
  {
   "cell_type": "markdown",
   "id": "2dd55eb8",
   "metadata": {},
   "source": [
    "##### 通過默認參數讓函式靈活使用_第8天"
   ]
  },
  {
   "cell_type": "code",
   "execution_count": 22,
   "id": "e022e289",
   "metadata": {},
   "outputs": [
    {
     "name": "stdout",
     "output_type": "stream",
     "text": [
      "nameless, hello\n"
     ]
    }
   ],
   "source": [
    "class Hi:\n",
    "    def say(self, name, greetings=\"hi\"):\n",
    "        print(f\"{name}, {greetings}\")\n",
    "\n",
    "\n",
    "hi = Hi()\n",
    "hi.say(name=\"nameless\", greetings=\"hello\")"
   ]
  },
  {
   "cell_type": "code",
   "execution_count": null,
   "id": "bfdb517d",
   "metadata": {},
   "outputs": [
    {
     "name": "stdout",
     "output_type": "stream",
     "text": [
      "nameless, hello, python\n"
     ]
    }
   ],
   "source": [
    "hi.say(name=\"nameless\", greetings=\"hello, python\")\n",
    "\n",
    "# 20250502"
   ]
  }
 ],
 "metadata": {
  "kernelspec": {
   "display_name": "venv1",
   "language": "python",
   "name": "python3"
  },
  "language_info": {
   "codemirror_mode": {
    "name": "ipython",
    "version": 3
   },
   "file_extension": ".py",
   "mimetype": "text/x-python",
   "name": "python",
   "nbconvert_exporter": "python",
   "pygments_lexer": "ipython3",
   "version": "3.11.2"
  }
 },
 "nbformat": 4,
 "nbformat_minor": 5
}

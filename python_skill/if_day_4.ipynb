{
 "cells": [
  {
   "cell_type": "markdown",
   "id": "711eab96",
   "metadata": {},
   "source": [
    "\n",
    "### if 判斷式優化"
   ]
  },
  {
   "cell_type": "code",
   "execution_count": 8,
   "id": "37fb13f7",
   "metadata": {},
   "outputs": [
    {
     "name": "stdout",
     "output_type": "stream",
     "text": [
      "<Condition.A: 1>\n",
      "A\n",
      "1\n"
     ]
    }
   ],
   "source": [
    "import random\n",
    "from enum import Enum\n",
    "\n",
    "\n",
    "class Condition(Enum):\n",
    "    A = 1\n",
    "    B = 2\n",
    "    C = 3\n",
    "    D = 4\n",
    "\n",
    "\n",
    "print(repr(Condition.A))\n",
    "print(Condition.A.name)\n",
    "print(Condition.A.value)"
   ]
  },
  {
   "cell_type": "code",
   "execution_count": 9,
   "id": "82bcf673",
   "metadata": {},
   "outputs": [
    {
     "name": "stdout",
     "output_type": "stream",
     "text": [
      "result_1\n"
     ]
    }
   ],
   "source": [
    "values = [1, 2, 3, 4]\n",
    "choice = Condition(random.choice(values))\n",
    "if choice == Condition.D:\n",
    "    print(\"result_2\")\n",
    "else:\n",
    "    print(\"result_1\")\n",
    "# if choice == Condition.A or choice == Condition.B or choice == Condition.C:\n",
    "#     print(\"result_1\")\n",
    "# else:\n",
    "#     print(\"result_2\")"
   ]
  },
  {
   "cell_type": "code",
   "execution_count": 11,
   "id": "d656ef0e",
   "metadata": {},
   "outputs": [
    {
     "name": "stdout",
     "output_type": "stream",
     "text": [
      "result_1\n"
     ]
    }
   ],
   "source": [
    "values = [1, 2, 3, 4]\n",
    "choice = Condition(random.choice(values))\n",
    "option = [Condition.A, Condition.B]\n",
    "if choice in option:\n",
    "    # if choice == Condition.A or choice == Condition.B:\n",
    "    print(\"result_1\")\n",
    "else:\n",
    "    print(\"result_2\")"
   ]
  },
  {
   "cell_type": "code",
   "execution_count": 14,
   "id": "3e07d987",
   "metadata": {},
   "outputs": [
    {
     "name": "stdout",
     "output_type": "stream",
     "text": [
      "result_2\n"
     ]
    }
   ],
   "source": [
    "values = [1, 2, 3, 4]\n",
    "choice = Condition(random.choice(values))\n",
    "option = {Condition.A, Condition.B}\n",
    "if choice in option:\n",
    "    # if choice == Condition.A or choice == Condition.B:\n",
    "    print(\"result_1\")\n",
    "else:\n",
    "    print(\"result_2\")"
   ]
  },
  {
   "cell_type": "code",
   "execution_count": 17,
   "id": "6d43b189",
   "metadata": {},
   "outputs": [
    {
     "name": "stdout",
     "output_type": "stream",
     "text": [
      "Using list:\n",
      "List time: 1.4565322399139404\n"
     ]
    }
   ],
   "source": [
    "import random\n",
    "import time\n",
    "from enum import Enum\n",
    "\n",
    "\n",
    "class Condition(Enum):\n",
    "    A = 1\n",
    "    B = 2\n",
    "    C = 3\n",
    "    D = 4\n",
    "\n",
    "\n",
    "# 設置測試次數\n",
    "test_times = 1000000\n",
    "\n",
    "# 設置選項\n",
    "values = [1, 2, 3, 4]\n",
    "option_list = [Condition.A, Condition.B]\n",
    "\n",
    "# 使用 list 進行測試\n",
    "start_time = time.time()\n",
    "for _ in range(test_times):\n",
    "    choice = Condition(random.choice(values))\n",
    "    if choice in option_list:\n",
    "        pass\n",
    "end_time = time.time()\n",
    "list_time = end_time - start_time\n",
    "\n",
    "# 列印結果\n",
    "print(\"Using list:\")\n",
    "print(\"List time:\", list_time)"
   ]
  },
  {
   "cell_type": "code",
   "execution_count": 18,
   "id": "6903a194",
   "metadata": {},
   "outputs": [
    {
     "name": "stdout",
     "output_type": "stream",
     "text": [
      "Using set:\n",
      "Set time: 1.589080810546875\n"
     ]
    }
   ],
   "source": [
    "import random\n",
    "import time\n",
    "from enum import Enum\n",
    "\n",
    "\n",
    "class Condition(Enum):\n",
    "    A = 1\n",
    "    B = 2\n",
    "    C = 3\n",
    "    D = 4\n",
    "\n",
    "\n",
    "# 設置測試次數\n",
    "test_times = 1000000\n",
    "\n",
    "# 設置選項\n",
    "values = [1, 2, 3, 4]\n",
    "option_set = {Condition.A, Condition.B}\n",
    "\n",
    "# 使用 set 進行測試\n",
    "start_time = time.time()\n",
    "for _ in range(test_times):\n",
    "    choice = Condition(random.choice(values))\n",
    "    if choice in option_set:\n",
    "        pass\n",
    "end_time = time.time()\n",
    "set_time = end_time - start_time\n",
    "\n",
    "# 列印結果\n",
    "print(\"Using set:\")\n",
    "print(\"Set time:\", set_time)"
   ]
  }
 ],
 "metadata": {
  "kernelspec": {
   "display_name": "venv1",
   "language": "python",
   "name": "python3"
  },
  "language_info": {
   "codemirror_mode": {
    "name": "ipython",
    "version": 3
   },
   "file_extension": ".py",
   "mimetype": "text/x-python",
   "name": "python",
   "nbconvert_exporter": "python",
   "pygments_lexer": "ipython3",
   "version": "3.11.2"
  }
 },
 "nbformat": 4,
 "nbformat_minor": 5
}

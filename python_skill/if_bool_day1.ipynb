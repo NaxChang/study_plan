{
 "cells": [
  {
   "cell_type": "code",
   "execution_count": 19,
   "id": "4943cdda",
   "metadata": {},
   "outputs": [
    {
     "data": {
      "text/plain": [
       "True"
      ]
     },
     "execution_count": 19,
     "metadata": {},
     "output_type": "execute_result"
    }
   ],
   "source": [
    "# bool\n",
    "bool(1)"
   ]
  },
  {
   "cell_type": "code",
   "execution_count": null,
   "id": "479b7afa",
   "metadata": {},
   "outputs": [],
   "source": [
    "fales_value = [False, [], {}, \"\", 0, 0.0, None]"
   ]
  },
  {
   "cell_type": "code",
   "execution_count": null,
   "id": "c176da7f",
   "metadata": {},
   "outputs": [
    {
     "name": "stdout",
     "output_type": "stream",
     "text": [
      "False\n",
      "False\n",
      "False\n",
      "False\n",
      "False\n",
      "False\n",
      "False\n"
     ]
    }
   ],
   "source": [
    "for val in fales_value:\n",
    "    print(True if val else False)\n",
    "    # if val:\n",
    "    #     print(True)\n",
    "    # else:\n",
    "    #     print(False)\n",
    "    # print(f\"{val} is {bool(val)}\")"
   ]
  },
  {
   "cell_type": "code",
   "execution_count": 23,
   "id": "4e0d06b5",
   "metadata": {},
   "outputs": [
    {
     "data": {
      "text/plain": [
       "True"
      ]
     },
     "execution_count": 23,
     "metadata": {},
     "output_type": "execute_result"
    }
   ],
   "source": [
    "class MyType:\n",
    "    def __init__(self):\n",
    "        self.value = []\n",
    "\n",
    "    def add(self, x):\n",
    "        self.value.append(x)\n",
    "\n",
    "    def __bool__(self):\n",
    "        return bool(self.value)\n",
    "\n",
    "\n",
    "my_type = MyType()\n",
    "bool(my_type)  # False\n",
    "my_type.add(1)\n",
    "bool(my_type)  # True"
   ]
  },
  {
   "cell_type": "code",
   "execution_count": 28,
   "id": "3425e4dc",
   "metadata": {},
   "outputs": [
    {
     "name": "stdout",
     "output_type": "stream",
     "text": [
      "True\n"
     ]
    }
   ],
   "source": [
    "print(True if my_type else False)"
   ]
  },
  {
   "cell_type": "code",
   "execution_count": 24,
   "id": "1ee64fa3",
   "metadata": {},
   "outputs": [
    {
     "name": "stdout",
     "output_type": "stream",
     "text": [
      "a is empty\n"
     ]
    }
   ],
   "source": [
    "a = []\n",
    "if a == []:\n",
    "    print(\"a is empty\")"
   ]
  },
  {
   "cell_type": "code",
   "execution_count": 25,
   "id": "7bd18d11",
   "metadata": {},
   "outputs": [],
   "source": [
    "a = []\n",
    "if a:\n",
    "    print(\"a is empty\")"
   ]
  },
  {
   "cell_type": "code",
   "execution_count": 26,
   "id": "36f82c54",
   "metadata": {},
   "outputs": [
    {
     "name": "stdout",
     "output_type": "stream",
     "text": [
      "a is empty\n"
     ]
    }
   ],
   "source": [
    "a = []\n",
    "if not a:\n",
    "    print(\"a is empty\")"
   ]
  }
 ],
 "metadata": {
  "kernelspec": {
   "display_name": "venv1",
   "language": "python",
   "name": "python3"
  },
  "language_info": {
   "codemirror_mode": {
    "name": "ipython",
    "version": 3
   },
   "file_extension": ".py",
   "mimetype": "text/x-python",
   "name": "python",
   "nbconvert_exporter": "python",
   "pygments_lexer": "ipython3",
   "version": "3.11.2"
  }
 },
 "nbformat": 4,
 "nbformat_minor": 5
}

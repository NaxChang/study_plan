{
 "cells": [
  {
   "cell_type": "markdown",
   "id": "4f37b1e0",
   "metadata": {},
   "source": [
    "### 字串格式化"
   ]
  },
  {
   "cell_type": "code",
   "execution_count": 17,
   "id": "0610ee00",
   "metadata": {},
   "outputs": [],
   "source": [
    "name = \"nameless\"\n",
    "age = 30\n",
    "# \"I'am nameless, and 30 years old.\""
   ]
  },
  {
   "cell_type": "code",
   "execution_count": 18,
   "id": "eade7277",
   "metadata": {},
   "outputs": [
    {
     "name": "stdout",
     "output_type": "stream",
     "text": [
      "I'am nameless, and 30 years old.\n"
     ]
    }
   ],
   "source": [
    "print(\"I'am \" + name + \", and \" + str(age) + \" years old.\")"
   ]
  },
  {
   "cell_type": "code",
   "execution_count": 19,
   "id": "879ca818",
   "metadata": {},
   "outputs": [
    {
     "name": "stdout",
     "output_type": "stream",
     "text": [
      "I'am nameless, and 30 years old.\n"
     ]
    }
   ],
   "source": [
    "print(\"I'am %s, and %d years old.\" % (name, age))"
   ]
  },
  {
   "cell_type": "code",
   "execution_count": 20,
   "id": "d8304915",
   "metadata": {},
   "outputs": [
    {
     "name": "stdout",
     "output_type": "stream",
     "text": [
      "I'am nameless, and 30 years old.\n"
     ]
    }
   ],
   "source": [
    "age = \"30\"\n",
    "print(\"I'am %s, and %s years old.\" % (name, age))"
   ]
  },
  {
   "cell_type": "code",
   "execution_count": 21,
   "id": "86279745",
   "metadata": {},
   "outputs": [
    {
     "name": "stdout",
     "output_type": "stream",
     "text": [
      "I'am nameless, and 30 years old.\n"
     ]
    }
   ],
   "source": [
    "print(\"I'am {}, and {} years old.\".format(name, age))"
   ]
  },
  {
   "cell_type": "code",
   "execution_count": null,
   "id": "ce22bccf",
   "metadata": {},
   "outputs": [],
   "source": [
    "print(\"I'am {name}, and {age} years old.\".format(name=name, age=age))"
   ]
  },
  {
   "cell_type": "code",
   "execution_count": 22,
   "id": "5647cd26",
   "metadata": {},
   "outputs": [
    {
     "name": "stdout",
     "output_type": "stream",
     "text": [
      "I'am nameless, and 30 years old.\n"
     ]
    }
   ],
   "source": [
    "print(\"I'am {1}, and {0} years old.\".format(age, name))"
   ]
  },
  {
   "cell_type": "code",
   "execution_count": null,
   "id": "7cb09326",
   "metadata": {},
   "outputs": [],
   "source": [
    "name = \"nameless\"\n",
    "age = 30\n",
    "# \"I'am nameless, and 30 years old.\""
   ]
  },
  {
   "cell_type": "code",
   "execution_count": 25,
   "id": "e6c58cf3",
   "metadata": {},
   "outputs": [
    {
     "name": "stdout",
     "output_type": "stream",
     "text": [
      "I'am nameless, and 30 years old.\n"
     ]
    }
   ],
   "source": [
    "print(f\"I'am { name}, and {age} years old.\")"
   ]
  },
  {
   "cell_type": "code",
   "execution_count": 26,
   "id": "7dcb0eb3",
   "metadata": {},
   "outputs": [
    {
     "name": "stdout",
     "output_type": "stream",
     "text": [
      "I'am nameless, and [30] years old.\n"
     ]
    }
   ],
   "source": [
    "age = [30]\n",
    "print(f\"I'am { name}, and {age} years old.\")"
   ]
  },
  {
   "cell_type": "code",
   "execution_count": 27,
   "id": "c10a0ba6",
   "metadata": {},
   "outputs": [
    {
     "name": "stdout",
     "output_type": "stream",
     "text": [
      "I'am nameless, and 30 years old.\n"
     ]
    }
   ],
   "source": [
    "class Test:\n",
    "    name = \"nameless\"\n",
    "    age = 30\n",
    "\n",
    "\n",
    "print(f\"I'am {Test.name}, and {Test.age} years old.\")"
   ]
  }
 ],
 "metadata": {
  "kernelspec": {
   "display_name": "venv1",
   "language": "python",
   "name": "python3"
  },
  "language_info": {
   "codemirror_mode": {
    "name": "ipython",
    "version": 3
   },
   "file_extension": ".py",
   "mimetype": "text/x-python",
   "name": "python",
   "nbconvert_exporter": "python",
   "pygments_lexer": "ipython3",
   "version": "3.11.2"
  }
 },
 "nbformat": 4,
 "nbformat_minor": 5
}

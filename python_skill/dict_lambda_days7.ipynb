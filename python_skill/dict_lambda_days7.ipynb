{
 "cells": [
  {
   "cell_type": "markdown",
   "id": "4e6a6389",
   "metadata": {},
   "source": [
    "#### 字典安全訪問與進階技巧"
   ]
  },
  {
   "cell_type": "code",
   "execution_count": 2,
   "id": "e611f0bc",
   "metadata": {},
   "outputs": [],
   "source": [
    "d = {\n",
    "    \"name\": \"Nameless\",\n",
    "    \"age\": \"35\",\n",
    "}"
   ]
  },
  {
   "cell_type": "code",
   "execution_count": 8,
   "id": "59944fd5",
   "metadata": {},
   "outputs": [
    {
     "name": "stdout",
     "output_type": "stream",
     "text": [
      "error for key 'na'\n"
     ]
    }
   ],
   "source": [
    "try:\n",
    "    d[\"name\"]\n",
    "    d[\"na\"]\n",
    "except Exception as e:\n",
    "    print(f\"error for key {e}\")"
   ]
  },
  {
   "cell_type": "code",
   "execution_count": 12,
   "id": "5e1bccd5",
   "metadata": {},
   "outputs": [
    {
     "name": "stdout",
     "output_type": "stream",
     "text": [
      "Nameless\n",
      "unknown\n"
     ]
    }
   ],
   "source": [
    "print(d.get(\"name\"))\n",
    "print(d.get(\"na\", \"unknown\"))"
   ]
  },
  {
   "cell_type": "code",
   "execution_count": 14,
   "id": "55641fd6",
   "metadata": {},
   "outputs": [
    {
     "name": "stdout",
     "output_type": "stream",
     "text": [
      "Nameless\n",
      "missing\n"
     ]
    }
   ],
   "source": [
    "from collections import defaultdict\n",
    "\n",
    "d_new = defaultdict(lambda: \"missing\", d)\n",
    "print(d_new[\"name\"])\n",
    "print(d_new[\"na\"])"
   ]
  }
 ],
 "metadata": {
  "kernelspec": {
   "display_name": "venv1",
   "language": "python",
   "name": "python3"
  },
  "language_info": {
   "codemirror_mode": {
    "name": "ipython",
    "version": 3
   },
   "file_extension": ".py",
   "mimetype": "text/x-python",
   "name": "python",
   "nbconvert_exporter": "python",
   "pygments_lexer": "ipython3",
   "version": "3.11.2"
  }
 },
 "nbformat": 4,
 "nbformat_minor": 5
}
